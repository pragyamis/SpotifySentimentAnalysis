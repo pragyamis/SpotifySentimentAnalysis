{
 "cells": [
  {
   "cell_type": "code",
   "execution_count": null,
   "metadata": {},
   "outputs": [],
   "source": [
    "#import packages here\n",
    "\n",
    "import spotipy\n",
    "import spotipy.util as util\n",
    "import json\n",
    "import types\n",
    "import pandas as pd\n",
    "import json\n",
    "from pandas.io.json import json_normalize"
   ]
  },
  {
   "cell_type": "code",
   "execution_count": null,
   "metadata": {},
   "outputs": [],
   "source": [
    "#auth with spotipy and spotify app auth info here\n",
    "#see documentation for spotipy/spotify setup: \n",
    "#https://spotipy.readthedocs.io/en/latest/?highlight=current_user_recently_played\n",
    "\n",
    "token = util.prompt_for_user_token(\n",
    "        username=\"\",\n",
    "        scope=\"user-read-recently-played user-read-private user-top-read user-read-currently-playing\",\n",
    "        client_id=\"\",\n",
    "        client_secret=\"\",\n",
    "        redirect_uri=\"http://localhost/\")"
   ]
  },
  {
   "cell_type": "code",
   "execution_count": null,
   "metadata": {},
   "outputs": [],
   "source": [
    "spotify = spotipy.Spotify(auth=token)\n",
    "current_user_info = spotify.current_user()\n",
    "display_name = current_user_info['display_name']\n",
    "display_name"
   ]
  }
 ],
 "metadata": {
  "kernelspec": {
   "display_name": "Python 3",
   "language": "python",
   "name": "python3"
  },
  "language_info": {
   "codemirror_mode": {
    "name": "ipython",
    "version": 3
   },
   "file_extension": ".py",
   "mimetype": "text/x-python",
   "name": "python",
   "nbconvert_exporter": "python",
   "pygments_lexer": "ipython3",
   "version": "3.6.5"
  }
 },
 "nbformat": 4,
 "nbformat_minor": 2
}
