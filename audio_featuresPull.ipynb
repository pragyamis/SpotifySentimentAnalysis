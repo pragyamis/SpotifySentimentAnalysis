{
 "cells": [
  {
   "cell_type": "code",
   "execution_count": 48,
   "metadata": {},
   "outputs": [],
   "source": [
    "#import packages here\n",
    "\n",
    "import spotipy\n",
    "import spotipy.util as util\n",
    "import json\n",
    "import types\n",
    "import pandas as pd\n",
    "import json\n",
    "from pandas.io.json import json_normalize  "
   ]
  },
  {
   "cell_type": "code",
   "execution_count": 2,
   "metadata": {},
   "outputs": [
    {
     "name": "stdout",
     "output_type": "stream",
     "text": [
      "\n",
      "\n",
      "            User authentication requires interaction with your\n",
      "            web browser. Once you enter your credentials and\n",
      "            give authorization, you will be redirected to\n",
      "            a url.  Paste that url you were directed to to\n",
      "            complete the authorization.\n",
      "\n",
      "        \n",
      "Opened https://accounts.spotify.com/authorize?client_id=06fbc86c86fb476fa9154ebbcea09a2a&response_type=code&redirect_uri=http%3A%2F%2Flocalhost%2F&scope=user-read-currently-playing+user-read-private+user-read-recently-played+user-top-read in your browser\n",
      "\n",
      "\n",
      "Enter the URL you were redirected to: http://localhost/?code=AQCVWAR6G5jJKCYKAUgCQMJJd3Cqv9RIS0qetxe-DHnciI6d5azgStUVo2kwEXjNCsFGlqueOVwcBP4IdSnvyDoZFkgG5upQH_k83YatHED9uxSTxgHFz6a-BIPRz4UpckFSW1NPqO7x1U-tSCrhuDpmf5jC-PtOQLqlzHchPEF0vMVMMSfRoQINz43qbbbl2kHSqMARw3BDJE6j7UQZAA_9YyH7w0UHOrZRqlZwuzKlvIwfQwHXyQJYxaLUPsZpx-9EHv0CpoYWcP_XF245VGmeKLL1oXFa1M0k99ngoGy4\n",
      "\n",
      "\n"
     ]
    }
   ],
   "source": [
    "#auth with spotipy and spotify app auth info here\n",
    "#see documentation for spotipy/spotify setup: \n",
    "#https://spotipy.readthedocs.io/en/latest/?highlight=current_user_recently_played\n",
    "\n",
    "token = util.prompt_for_user_token(\n",
    "        username=\"psamrai7\",\n",
    "        scope=\"user-read-recently-played user-read-private user-top-read user-read-currently-playing\",\n",
    "        client_id=\"06fbc86c86fb476fa9154ebbcea09a2a\",\n",
    "        client_secret=\"1ad66a32c99944ffa9728e38629c5ebb\",\n",
    "        redirect_uri=\"http://localhost/\")"
   ]
  },
  {
   "cell_type": "code",
   "execution_count": 13,
   "metadata": {},
   "outputs": [
    {
     "data": {
      "text/plain": [
       "play_times          object\n",
       "song_names          object\n",
       "song_uri            object\n",
       "song_popularity      int64\n",
       "song_duration        int64\n",
       "song_explicit         bool\n",
       "number_artists       int64\n",
       "primary_artist      object\n",
       "second_artist       object\n",
       "third_artist        object\n",
       "fourth_artist       object\n",
       "fifth_artist       float64\n",
       "dtype: object"
      ]
     },
     "execution_count": 13,
     "metadata": {},
     "output_type": "execute_result"
    }
   ],
   "source": [
    "song_titles = pd.read_csv(\"user1_songlisten_data.csv\")\n",
    "song_uri = song_titles['song_uri']\n"
   ]
  },
  {
   "cell_type": "code",
   "execution_count": 16,
   "metadata": {},
   "outputs": [
    {
     "name": "stdout",
     "output_type": "stream",
     "text": [
      "[{'danceability': 0.553, 'energy': 0.812, 'key': 8, 'loudness': -3.607, 'mode': 1, 'speechiness': 0.268, 'acousticness': 0.168, 'instrumentalness': 4.98e-05, 'liveness': 0.225, 'valence': 0.265, 'tempo': 147.76, 'type': 'audio_features', 'id': '6pupcurqRceRKr1IjdM5nS', 'uri': 'spotify:track:6pupcurqRceRKr1IjdM5nS', 'track_href': 'https://api.spotify.com/v1/tracks/6pupcurqRceRKr1IjdM5nS', 'analysis_url': 'https://api.spotify.com/v1/audio-analysis/6pupcurqRceRKr1IjdM5nS', 'duration_ms': 262693, 'time_signature': 4}, {'danceability': 0.694, 'energy': 0.824, 'key': 10, 'loudness': -4.477, 'mode': 0, 'speechiness': 0.459, 'acousticness': 0.329, 'instrumentalness': 0.0559, 'liveness': 0.136, 'valence': 0.117, 'tempo': 183.985, 'type': 'audio_features', 'id': '3RjZPlsPExqGxYEsBRi1oY', 'uri': 'spotify:track:3RjZPlsPExqGxYEsBRi1oY', 'track_href': 'https://api.spotify.com/v1/tracks/3RjZPlsPExqGxYEsBRi1oY', 'analysis_url': 'https://api.spotify.com/v1/audio-analysis/3RjZPlsPExqGxYEsBRi1oY', 'duration_ms': 267930, 'time_signature': 4}, {'danceability': 0.769, 'energy': 0.949, 'key': 1, 'loudness': -5.709, 'mode': 1, 'speechiness': 0.313, 'acousticness': 0.0745, 'instrumentalness': 1.55e-05, 'liveness': 0.222, 'valence': 0.43, 'tempo': 142.033, 'type': 'audio_features', 'id': '5RYfvRGELWIr0UFPDZJMsK', 'uri': 'spotify:track:5RYfvRGELWIr0UFPDZJMsK', 'track_href': 'https://api.spotify.com/v1/tracks/5RYfvRGELWIr0UFPDZJMsK', 'analysis_url': 'https://api.spotify.com/v1/audio-analysis/5RYfvRGELWIr0UFPDZJMsK', 'duration_ms': 279863, 'time_signature': 4}, {'danceability': 0.889, 'energy': 0.596, 'key': 9, 'loudness': -8.23, 'mode': 0, 'speechiness': 0.397, 'acousticness': 0.278, 'instrumentalness': 0, 'liveness': 0.0798, 'valence': 0.899, 'tempo': 97.994, 'type': 'audio_features', 'id': '475SvHOt2z2mp5dK2pjSJ8', 'uri': 'spotify:track:475SvHOt2z2mp5dK2pjSJ8', 'track_href': 'https://api.spotify.com/v1/tracks/475SvHOt2z2mp5dK2pjSJ8', 'analysis_url': 'https://api.spotify.com/v1/audio-analysis/475SvHOt2z2mp5dK2pjSJ8', 'duration_ms': 171013, 'time_signature': 5}, {'danceability': 0.56, 'energy': 0.767, 'key': 1, 'loudness': -4.328, 'mode': 1, 'speechiness': 0.125, 'acousticness': 0.000729, 'instrumentalness': 4.22e-06, 'liveness': 0.342, 'valence': 0.169, 'tempo': 83.907, 'type': 'audio_features', 'id': '1ZnLtcV93kvm5Mz7wXVQ3z', 'uri': 'spotify:track:1ZnLtcV93kvm5Mz7wXVQ3z', 'track_href': 'https://api.spotify.com/v1/tracks/1ZnLtcV93kvm5Mz7wXVQ3z', 'analysis_url': 'https://api.spotify.com/v1/audio-analysis/1ZnLtcV93kvm5Mz7wXVQ3z', 'duration_ms': 242853, 'time_signature': 4}, {'danceability': 0.691, 'energy': 0.75, 'key': 10, 'loudness': -3.934, 'mode': 0, 'speechiness': 0.347, 'acousticness': 0.104, 'instrumentalness': 0, 'liveness': 0.123, 'valence': 0.345, 'tempo': 143.744, 'type': 'audio_features', 'id': '1PVza5KmhSJhz12OewWciE', 'uri': 'spotify:track:1PVza5KmhSJhz12OewWciE', 'track_href': 'https://api.spotify.com/v1/tracks/1PVza5KmhSJhz12OewWciE', 'analysis_url': 'https://api.spotify.com/v1/audio-analysis/1PVza5KmhSJhz12OewWciE', 'duration_ms': 226963, 'time_signature': 4}, {'danceability': 0.782, 'energy': 0.633, 'key': 8, 'loudness': -4.644, 'mode': 1, 'speechiness': 0.341, 'acousticness': 0.0355, 'instrumentalness': 0, 'liveness': 0.0615, 'valence': 0.749, 'tempo': 150.055, 'type': 'audio_features', 'id': '0gV5B7zmJkS1aaH9APokrH', 'uri': 'spotify:track:0gV5B7zmJkS1aaH9APokrH', 'track_href': 'https://api.spotify.com/v1/tracks/0gV5B7zmJkS1aaH9APokrH', 'analysis_url': 'https://api.spotify.com/v1/audio-analysis/0gV5B7zmJkS1aaH9APokrH', 'duration_ms': 175213, 'time_signature': 4}, {'danceability': 0.83, 'energy': 0.631, 'key': 0, 'loudness': -4.949, 'mode': 1, 'speechiness': 0.296, 'acousticness': 0.126, 'instrumentalness': 0.224, 'liveness': 0.12, 'valence': 0.358, 'tempo': 129.021, 'type': 'audio_features', 'id': '0PeWHVfXWa2rgosd8sURLn', 'uri': 'spotify:track:0PeWHVfXWa2rgosd8sURLn', 'track_href': 'https://api.spotify.com/v1/tracks/0PeWHVfXWa2rgosd8sURLn', 'analysis_url': 'https://api.spotify.com/v1/audio-analysis/0PeWHVfXWa2rgosd8sURLn', 'duration_ms': 125557, 'time_signature': 4}, {'danceability': 0.88, 'energy': 0.58, 'key': 5, 'loudness': -5.032, 'mode': 0, 'speechiness': 0.0438, 'acousticness': 0.016, 'instrumentalness': 3.83e-06, 'liveness': 0.0936, 'valence': 0.754, 'tempo': 124.003, 'type': 'audio_features', 'id': '1AgSUWSzmza5jF6ER5R68v', 'uri': 'spotify:track:1AgSUWSzmza5jF6ER5R68v', 'track_href': 'https://api.spotify.com/v1/tracks/1AgSUWSzmza5jF6ER5R68v', 'analysis_url': 'https://api.spotify.com/v1/audio-analysis/1AgSUWSzmza5jF6ER5R68v', 'duration_ms': 128409, 'time_signature': 4}, {'danceability': 0.902, 'energy': 0.497, 'key': 7, 'loudness': -9.236, 'mode': 1, 'speechiness': 0.266, 'acousticness': 0.0192, 'instrumentalness': 0, 'liveness': 0.109, 'valence': 0.463, 'tempo': 120.016, 'type': 'audio_features', 'id': '3au0pvHqcTtszysswan6AO', 'uri': 'spotify:track:3au0pvHqcTtszysswan6AO', 'track_href': 'https://api.spotify.com/v1/tracks/3au0pvHqcTtszysswan6AO', 'analysis_url': 'https://api.spotify.com/v1/audio-analysis/3au0pvHqcTtszysswan6AO', 'duration_ms': 162750, 'time_signature': 4}, {'danceability': 0.97, 'energy': 0.507, 'key': 5, 'loudness': -5.469, 'mode': 0, 'speechiness': 0.148, 'acousticness': 0.172, 'instrumentalness': 0, 'liveness': 0.0939, 'valence': 0.879, 'tempo': 120.022, 'type': 'audio_features', 'id': '3eCulo5yg6EwkTfYcy1Xmh', 'uri': 'spotify:track:3eCulo5yg6EwkTfYcy1Xmh', 'track_href': 'https://api.spotify.com/v1/tracks/3eCulo5yg6EwkTfYcy1Xmh', 'analysis_url': 'https://api.spotify.com/v1/audio-analysis/3eCulo5yg6EwkTfYcy1Xmh', 'duration_ms': 128140, 'time_signature': 4}, {'danceability': 0.812, 'energy': 0.606, 'key': 1, 'loudness': -6.768, 'mode': 1, 'speechiness': 0.0448, 'acousticness': 0.0674, 'instrumentalness': 0.00245, 'liveness': 0.173, 'valence': 0.0813, 'tempo': 132.976, 'type': 'audio_features', 'id': '5uNhWDGP1gXxS2IZl2alGx', 'uri': 'spotify:track:5uNhWDGP1gXxS2IZl2alGx', 'track_href': 'https://api.spotify.com/v1/tracks/5uNhWDGP1gXxS2IZl2alGx', 'analysis_url': 'https://api.spotify.com/v1/audio-analysis/5uNhWDGP1gXxS2IZl2alGx', 'duration_ms': 189613, 'time_signature': 4}, {'danceability': 0.795, 'energy': 0.811, 'key': 1, 'loudness': -4.376, 'mode': 1, 'speechiness': 0.157, 'acousticness': 0.468, 'instrumentalness': 0, 'liveness': 0.0907, 'valence': 0.451, 'tempo': 142.974, 'type': 'audio_features', 'id': '6hmFeFu84Kukd73LOwdjtZ', 'uri': 'spotify:track:6hmFeFu84Kukd73LOwdjtZ', 'track_href': 'https://api.spotify.com/v1/tracks/6hmFeFu84Kukd73LOwdjtZ', 'analysis_url': 'https://api.spotify.com/v1/audio-analysis/6hmFeFu84Kukd73LOwdjtZ', 'duration_ms': 195320, 'time_signature': 4}, {'danceability': 0.754, 'energy': 0.46, 'key': 1, 'loudness': -8.752, 'mode': 1, 'speechiness': 0.0479, 'acousticness': 0.0193, 'instrumentalness': 0, 'liveness': 0.146, 'valence': 0.0759, 'tempo': 129.028, 'type': 'audio_features', 'id': '7vp3xIWZQlUVocIGXJ8acq', 'uri': 'spotify:track:7vp3xIWZQlUVocIGXJ8acq', 'track_href': 'https://api.spotify.com/v1/tracks/7vp3xIWZQlUVocIGXJ8acq', 'analysis_url': 'https://api.spotify.com/v1/audio-analysis/7vp3xIWZQlUVocIGXJ8acq', 'duration_ms': 211200, 'time_signature': 4}, {'danceability': 0.754, 'energy': 0.46, 'key': 1, 'loudness': -8.752, 'mode': 1, 'speechiness': 0.0479, 'acousticness': 0.0193, 'instrumentalness': 0, 'liveness': 0.146, 'valence': 0.0759, 'tempo': 129.028, 'type': 'audio_features', 'id': '7vp3xIWZQlUVocIGXJ8acq', 'uri': 'spotify:track:7vp3xIWZQlUVocIGXJ8acq', 'track_href': 'https://api.spotify.com/v1/tracks/7vp3xIWZQlUVocIGXJ8acq', 'analysis_url': 'https://api.spotify.com/v1/audio-analysis/7vp3xIWZQlUVocIGXJ8acq', 'duration_ms': 211200, 'time_signature': 4}, {'danceability': 0.832, 'energy': 0.491, 'key': 8, 'loudness': -5.721, 'mode': 1, 'speechiness': 0.109, 'acousticness': 0.0157, 'instrumentalness': 1.34e-05, 'liveness': 0.651, 'valence': 0.0561, 'tempo': 129.979, 'type': 'audio_features', 'id': '6kqPWdv1pNXp6A2CowGSFA', 'uri': 'spotify:track:6kqPWdv1pNXp6A2CowGSFA', 'track_href': 'https://api.spotify.com/v1/tracks/6kqPWdv1pNXp6A2CowGSFA', 'analysis_url': 'https://api.spotify.com/v1/audio-analysis/6kqPWdv1pNXp6A2CowGSFA', 'duration_ms': 135493, 'time_signature': 4}, {'danceability': 0.693, 'energy': 0.422, 'key': 10, 'loudness': -11.75, 'mode': 0, 'speechiness': 0.0662, 'acousticness': 0.00728, 'instrumentalness': 3.16e-05, 'liveness': 0.0882, 'valence': 0.23, 'tempo': 128.145, 'type': 'audio_features', 'id': '78UTxmRQSmwp8CxfEr4r9o', 'uri': 'spotify:track:78UTxmRQSmwp8CxfEr4r9o', 'track_href': 'https://api.spotify.com/v1/tracks/78UTxmRQSmwp8CxfEr4r9o', 'analysis_url': 'https://api.spotify.com/v1/audio-analysis/78UTxmRQSmwp8CxfEr4r9o', 'duration_ms': 259798, 'time_signature': 4}, {'danceability': 0.508, 'energy': 0.778, 'key': 5, 'loudness': -6.407, 'mode': 1, 'speechiness': 0.45, 'acousticness': 0.0413, 'instrumentalness': 0, 'liveness': 0.267, 'valence': 0.444, 'tempo': 179.111, 'type': 'audio_features', 'id': '1uhw4ADHqx9ftHgdPzMZEp', 'uri': 'spotify:track:1uhw4ADHqx9ftHgdPzMZEp', 'track_href': 'https://api.spotify.com/v1/tracks/1uhw4ADHqx9ftHgdPzMZEp', 'analysis_url': 'https://api.spotify.com/v1/audio-analysis/1uhw4ADHqx9ftHgdPzMZEp', 'duration_ms': 208867, 'time_signature': 3}, {'danceability': 0.689, 'energy': 0.829, 'key': 10, 'loudness': -4.207, 'mode': 0, 'speechiness': 0.354, 'acousticness': 0.513, 'instrumentalness': 0, 'liveness': 0.238, 'valence': 0.645, 'tempo': 104.046, 'type': 'audio_features', 'id': '02e5acaHnJXGFnyQJms8wB', 'uri': 'spotify:track:02e5acaHnJXGFnyQJms8wB', 'track_href': 'https://api.spotify.com/v1/tracks/02e5acaHnJXGFnyQJms8wB', 'analysis_url': 'https://api.spotify.com/v1/audio-analysis/02e5acaHnJXGFnyQJms8wB', 'duration_ms': 146000, 'time_signature': 4}, {'danceability': 0.631, 'energy': 0.881, 'key': 8, 'loudness': -6.657, 'mode': 1, 'speechiness': 0.425, 'acousticness': 0.018, 'instrumentalness': 0, 'liveness': 0.338, 'valence': 0.7, 'tempo': 156.089, 'type': 'audio_features', 'id': '3Z3DkfHoliu5Owoeh2kjCY', 'uri': 'spotify:track:3Z3DkfHoliu5Owoeh2kjCY', 'track_href': 'https://api.spotify.com/v1/tracks/3Z3DkfHoliu5Owoeh2kjCY', 'analysis_url': 'https://api.spotify.com/v1/audio-analysis/3Z3DkfHoliu5Owoeh2kjCY', 'duration_ms': 173558, 'time_signature': 4}, {'danceability': 0.676, 'energy': 0.71, 'key': 7, 'loudness': -5.804, 'mode': 1, 'speechiness': 0.291, 'acousticness': 0.166, 'instrumentalness': 0, 'liveness': 0.107, 'valence': 0.911, 'tempo': 96.089, 'type': 'audio_features', 'id': '2nTWyVObBPtxBK2cZmDIzA', 'uri': 'spotify:track:2nTWyVObBPtxBK2cZmDIzA', 'track_href': 'https://api.spotify.com/v1/tracks/2nTWyVObBPtxBK2cZmDIzA', 'analysis_url': 'https://api.spotify.com/v1/audio-analysis/2nTWyVObBPtxBK2cZmDIzA', 'duration_ms': 142173, 'time_signature': 4}, {'danceability': 0.835, 'energy': 0.873, 'key': 11, 'loudness': -4.052, 'mode': 1, 'speechiness': 0.247, 'acousticness': 0.15, 'instrumentalness': 0, 'liveness': 0.304, 'valence': 0.833, 'tempo': 122.019, 'type': 'audio_features', 'id': '2rXatl9YcEjqjktOutNUlN', 'uri': 'spotify:track:2rXatl9YcEjqjktOutNUlN', 'track_href': 'https://api.spotify.com/v1/tracks/2rXatl9YcEjqjktOutNUlN', 'analysis_url': 'https://api.spotify.com/v1/audio-analysis/2rXatl9YcEjqjktOutNUlN', 'duration_ms': 170658, 'time_signature': 4}, {'danceability': 0.898, 'energy': 0.677, 'key': 1, 'loudness': -6.907, 'mode': 1, 'speechiness': 0.362, 'acousticness': 0.354, 'instrumentalness': 4.85e-06, 'liveness': 0.449, 'valence': 0.864, 'tempo': 155.02, 'type': 'audio_features', 'id': '2KmYPKHvwG77NAcDpFlLBm', 'uri': 'spotify:track:2KmYPKHvwG77NAcDpFlLBm', 'track_href': 'https://api.spotify.com/v1/tracks/2KmYPKHvwG77NAcDpFlLBm', 'analysis_url': 'https://api.spotify.com/v1/audio-analysis/2KmYPKHvwG77NAcDpFlLBm', 'duration_ms': 188500, 'time_signature': 4}, {'danceability': 0.79, 'energy': 0.533, 'key': 2, 'loudness': -6.986, 'mode': 0, 'speechiness': 0.285, 'acousticness': 0.015, 'instrumentalness': 0.000134, 'liveness': 0.192, 'valence': 0.686, 'tempo': 144.99, 'type': 'audio_features', 'id': '3genAqdJAms2ifNFdbC4EO', 'uri': 'spotify:track:3genAqdJAms2ifNFdbC4EO', 'track_href': 'https://api.spotify.com/v1/tracks/3genAqdJAms2ifNFdbC4EO', 'analysis_url': 'https://api.spotify.com/v1/audio-analysis/3genAqdJAms2ifNFdbC4EO', 'duration_ms': 213809, 'time_signature': 4}, {'danceability': 0.488, 'energy': 0.803, 'key': 6, 'loudness': -4.165, 'mode': 0, 'speechiness': 0.205, 'acousticness': 0.0786, 'instrumentalness': 0, 'liveness': 0.215, 'valence': 0.319, 'tempo': 167.329, 'type': 'audio_features', 'id': '5DTOk0tCrmicVQP4mc6hkr', 'uri': 'spotify:track:5DTOk0tCrmicVQP4mc6hkr', 'track_href': 'https://api.spotify.com/v1/tracks/5DTOk0tCrmicVQP4mc6hkr', 'analysis_url': 'https://api.spotify.com/v1/audio-analysis/5DTOk0tCrmicVQP4mc6hkr', 'duration_ms': 261743, 'time_signature': 4}, {'danceability': 0.751, 'energy': 0.652, 'key': 10, 'loudness': -8.765, 'mode': 0, 'speechiness': 0.324, 'acousticness': 0.242, 'instrumentalness': 0, 'liveness': 0.107, 'valence': 0.556, 'tempo': 91.015, 'type': 'audio_features', 'id': '7fcV5aYRLfMyT7ArrIKYbL', 'uri': 'spotify:track:7fcV5aYRLfMyT7ArrIKYbL', 'track_href': 'https://api.spotify.com/v1/tracks/7fcV5aYRLfMyT7ArrIKYbL', 'analysis_url': 'https://api.spotify.com/v1/audio-analysis/7fcV5aYRLfMyT7ArrIKYbL', 'duration_ms': 230495, 'time_signature': 4}, {'danceability': 0.694, 'energy': 0.796, 'key': 5, 'loudness': -3.696, 'mode': 1, 'speechiness': 0.198, 'acousticness': 0.0713, 'instrumentalness': 0.0163, 'liveness': 0.096, 'valence': 0.592, 'tempo': 78.033, 'type': 'audio_features', 'id': '7iEoaTyBCqLaAwJnOP1BTn', 'uri': 'spotify:track:7iEoaTyBCqLaAwJnOP1BTn', 'track_href': 'https://api.spotify.com/v1/tracks/7iEoaTyBCqLaAwJnOP1BTn', 'analysis_url': 'https://api.spotify.com/v1/audio-analysis/7iEoaTyBCqLaAwJnOP1BTn', 'duration_ms': 166120, 'time_signature': 4}, {'danceability': 0.816, 'energy': 0.754, 'key': 2, 'loudness': -5.922, 'mode': 1, 'speechiness': 0.152, 'acousticness': 0.163, 'instrumentalness': 0.00199, 'liveness': 0.105, 'valence': 0.704, 'tempo': 92.023, 'type': 'audio_features', 'id': '0ipgd8PPFza3NNmN3Rn2uF', 'uri': 'spotify:track:0ipgd8PPFza3NNmN3Rn2uF', 'track_href': 'https://api.spotify.com/v1/tracks/0ipgd8PPFza3NNmN3Rn2uF', 'analysis_url': 'https://api.spotify.com/v1/audio-analysis/0ipgd8PPFza3NNmN3Rn2uF', 'duration_ms': 125217, 'time_signature': 4}, {'danceability': 0.505, 'energy': 0.695, 'key': 10, 'loudness': -4.8, 'mode': 1, 'speechiness': 0.332, 'acousticness': 0.555, 'instrumentalness': 0, 'liveness': 0.326, 'valence': 0.393, 'tempo': 173.468, 'type': 'audio_features', 'id': '3Zll5MbCF6D7Tg7lsH9KYI', 'uri': 'spotify:track:3Zll5MbCF6D7Tg7lsH9KYI', 'track_href': 'https://api.spotify.com/v1/tracks/3Zll5MbCF6D7Tg7lsH9KYI', 'analysis_url': 'https://api.spotify.com/v1/audio-analysis/3Zll5MbCF6D7Tg7lsH9KYI', 'duration_ms': 336333, 'time_signature': 4}, {'danceability': 0.424, 'energy': 0.681, 'key': 6, 'loudness': -8.227, 'mode': 0, 'speechiness': 0.421, 'acousticness': 0.709, 'instrumentalness': 9.99e-06, 'liveness': 0.0554, 'valence': 0.585, 'tempo': 98.611, 'type': 'audio_features', 'id': '6ncmnBtbkt8Qr1RlEy9753', 'uri': 'spotify:track:6ncmnBtbkt8Qr1RlEy9753', 'track_href': 'https://api.spotify.com/v1/tracks/6ncmnBtbkt8Qr1RlEy9753', 'analysis_url': 'https://api.spotify.com/v1/audio-analysis/6ncmnBtbkt8Qr1RlEy9753', 'duration_ms': 216686, 'time_signature': 3}, {'danceability': 0.443, 'energy': 0.597, 'key': 0, 'loudness': -8.039, 'mode': 0, 'speechiness': 0.434, 'acousticness': 0.0205, 'instrumentalness': 0, 'liveness': 0.319, 'valence': 0.518, 'tempo': 77.024, 'type': 'audio_features', 'id': '3977oy5kwFbW4zLR8NmhjN', 'uri': 'spotify:track:3977oy5kwFbW4zLR8NmhjN', 'track_href': 'https://api.spotify.com/v1/tracks/3977oy5kwFbW4zLR8NmhjN', 'analysis_url': 'https://api.spotify.com/v1/audio-analysis/3977oy5kwFbW4zLR8NmhjN', 'duration_ms': 146760, 'time_signature': 4}, {'danceability': 0.795, 'energy': 0.88, 'key': 9, 'loudness': -4.694, 'mode': 1, 'speechiness': 0.228, 'acousticness': 0.26, 'instrumentalness': 1.81e-05, 'liveness': 0.381, 'valence': 0.547, 'tempo': 139.969, 'type': 'audio_features', 'id': '6l2Q1Jb5c2VycqDEzp5ZlJ', 'uri': 'spotify:track:6l2Q1Jb5c2VycqDEzp5ZlJ', 'track_href': 'https://api.spotify.com/v1/tracks/6l2Q1Jb5c2VycqDEzp5ZlJ', 'analysis_url': 'https://api.spotify.com/v1/audio-analysis/6l2Q1Jb5c2VycqDEzp5ZlJ', 'duration_ms': 219884, 'time_signature': 4}, {'danceability': 0.421, 'energy': 0.885, 'key': 2, 'loudness': -3.262, 'mode': 1, 'speechiness': 0.185, 'acousticness': 0.316, 'instrumentalness': 0, 'liveness': 0.0498, 'valence': 0.359, 'tempo': 80.211, 'type': 'audio_features', 'id': '6VfN1B4f6nTssjhrkcAyKC', 'uri': 'spotify:track:6VfN1B4f6nTssjhrkcAyKC', 'track_href': 'https://api.spotify.com/v1/tracks/6VfN1B4f6nTssjhrkcAyKC', 'analysis_url': 'https://api.spotify.com/v1/audio-analysis/6VfN1B4f6nTssjhrkcAyKC', 'duration_ms': 223000, 'time_signature': 4}, {'danceability': 0.718, 'energy': 0.623, 'key': 10, 'loudness': -8.757, 'mode': 0, 'speechiness': 0.288, 'acousticness': 0.0425, 'instrumentalness': 0, 'liveness': 0.182, 'valence': 0.522, 'tempo': 149.981, 'type': 'audio_features', 'id': '5OnnaY5GVSYdmwYx40g1kL', 'uri': 'spotify:track:5OnnaY5GVSYdmwYx40g1kL', 'track_href': 'https://api.spotify.com/v1/tracks/5OnnaY5GVSYdmwYx40g1kL', 'analysis_url': 'https://api.spotify.com/v1/audio-analysis/5OnnaY5GVSYdmwYx40g1kL', 'duration_ms': 313652, 'time_signature': 4}, {'danceability': 0.758, 'energy': 0.539, 'key': 10, 'loudness': -7.889, 'mode': 0, 'speechiness': 0.106, 'acousticness': 0.011, 'instrumentalness': 0, 'liveness': 0.127, 'valence': 0.253, 'tempo': 129.956, 'type': 'audio_features', 'id': '6wXAF1Y1zn6PR93NqxF6I8', 'uri': 'spotify:track:6wXAF1Y1zn6PR93NqxF6I8', 'track_href': 'https://api.spotify.com/v1/tracks/6wXAF1Y1zn6PR93NqxF6I8', 'analysis_url': 'https://api.spotify.com/v1/audio-analysis/6wXAF1Y1zn6PR93NqxF6I8', 'duration_ms': 62800, 'time_signature': 4}, {'danceability': 0.658, 'energy': 0.641, 'key': 1, 'loudness': -5.081, 'mode': 1, 'speechiness': 0.0443, 'acousticness': 0.00156, 'instrumentalness': 0, 'liveness': 0.264, 'valence': 0.155, 'tempo': 142.035, 'type': 'audio_features', 'id': '4ml6OJpkMAVc9uKCi3xpyZ', 'uri': 'spotify:track:4ml6OJpkMAVc9uKCi3xpyZ', 'track_href': 'https://api.spotify.com/v1/tracks/4ml6OJpkMAVc9uKCi3xpyZ', 'analysis_url': 'https://api.spotify.com/v1/audio-analysis/4ml6OJpkMAVc9uKCi3xpyZ', 'duration_ms': 234167, 'time_signature': 4}, {'danceability': 0.658, 'energy': 0.641, 'key': 1, 'loudness': -5.081, 'mode': 1, 'speechiness': 0.0443, 'acousticness': 0.00156, 'instrumentalness': 0, 'liveness': 0.264, 'valence': 0.155, 'tempo': 142.035, 'type': 'audio_features', 'id': '4ml6OJpkMAVc9uKCi3xpyZ', 'uri': 'spotify:track:4ml6OJpkMAVc9uKCi3xpyZ', 'track_href': 'https://api.spotify.com/v1/tracks/4ml6OJpkMAVc9uKCi3xpyZ', 'analysis_url': 'https://api.spotify.com/v1/audio-analysis/4ml6OJpkMAVc9uKCi3xpyZ', 'duration_ms': 234167, 'time_signature': 4}, {'danceability': 0.969, 'energy': 0.491, 'key': 2, 'loudness': -9.859, 'mode': 1, 'speechiness': 0.233, 'acousticness': 0.0361, 'instrumentalness': 0, 'liveness': 0.118, 'valence': 0.768, 'tempo': 126.048, 'type': 'audio_features', 'id': '252gJUec2oDsGBPcxZs4nX', 'uri': 'spotify:track:252gJUec2oDsGBPcxZs4nX', 'track_href': 'https://api.spotify.com/v1/tracks/252gJUec2oDsGBPcxZs4nX', 'analysis_url': 'https://api.spotify.com/v1/audio-analysis/252gJUec2oDsGBPcxZs4nX', 'duration_ms': 198095, 'time_signature': 4}, {'danceability': 0.743, 'energy': 0.622, 'key': 0, 'loudness': -8.355, 'mode': 0, 'speechiness': 0.881, 'acousticness': 0.422, 'instrumentalness': 0, 'liveness': 0.0786, 'valence': 0.647, 'tempo': 175.871, 'type': 'audio_features', 'id': '4asV0Z4CL3n2flfHzvRNoO', 'uri': 'spotify:track:4asV0Z4CL3n2flfHzvRNoO', 'track_href': 'https://api.spotify.com/v1/tracks/4asV0Z4CL3n2flfHzvRNoO', 'analysis_url': 'https://api.spotify.com/v1/audio-analysis/4asV0Z4CL3n2flfHzvRNoO', 'duration_ms': 251298, 'time_signature': 4}, {'danceability': 0.79, 'energy': 0.639, 'key': 10, 'loudness': -5.298, 'mode': 0, 'speechiness': 0.203, 'acousticness': 0.0628, 'instrumentalness': 0, 'liveness': 0.0866, 'valence': 0.474, 'tempo': 85.042, 'type': 'audio_features', 'id': '3nF2BsotDt6BVUoAhlchNl', 'uri': 'spotify:track:3nF2BsotDt6BVUoAhlchNl', 'track_href': 'https://api.spotify.com/v1/tracks/3nF2BsotDt6BVUoAhlchNl', 'analysis_url': 'https://api.spotify.com/v1/audio-analysis/3nF2BsotDt6BVUoAhlchNl', 'duration_ms': 153485, 'time_signature': 4}, {'danceability': 0.783, 'energy': 0.0918, 'key': 8, 'loudness': -18.472, 'mode': 0, 'speechiness': 0.878, 'acousticness': 0.919, 'instrumentalness': 0, 'liveness': 0.0924, 'valence': 0.772, 'tempo': 101.61, 'type': 'audio_features', 'id': '5ACzNCtw7ez55fPbu3NRjW', 'uri': 'spotify:track:5ACzNCtw7ez55fPbu3NRjW', 'track_href': 'https://api.spotify.com/v1/tracks/5ACzNCtw7ez55fPbu3NRjW', 'analysis_url': 'https://api.spotify.com/v1/audio-analysis/5ACzNCtw7ez55fPbu3NRjW', 'duration_ms': 15906, 'time_signature': 3}, {'danceability': 0.717, 'energy': 0.481, 'key': 8, 'loudness': -8.1, 'mode': 1, 'speechiness': 0.232, 'acousticness': 0.282, 'instrumentalness': 6.11e-06, 'liveness': 0.0925, 'valence': 0.137, 'tempo': 84.998, 'type': 'audio_features', 'id': '0xeJBjZU4aUR1EcHZyvHXu', 'uri': 'spotify:track:0xeJBjZU4aUR1EcHZyvHXu', 'track_href': 'https://api.spotify.com/v1/tracks/0xeJBjZU4aUR1EcHZyvHXu', 'analysis_url': 'https://api.spotify.com/v1/audio-analysis/0xeJBjZU4aUR1EcHZyvHXu', 'duration_ms': 226200, 'time_signature': 4}, {'danceability': 0.706, 'energy': 0.48, 'key': 0, 'loudness': -10.421, 'mode': 1, 'speechiness': 0.298, 'acousticness': 0.411, 'instrumentalness': 0, 'liveness': 0.103, 'valence': 0.682, 'tempo': 75.05, 'type': 'audio_features', 'id': '0bJQ2EJndGgy6gN63wSHty', 'uri': 'spotify:track:0bJQ2EJndGgy6gN63wSHty', 'track_href': 'https://api.spotify.com/v1/tracks/0bJQ2EJndGgy6gN63wSHty', 'analysis_url': 'https://api.spotify.com/v1/audio-analysis/0bJQ2EJndGgy6gN63wSHty', 'duration_ms': 166458, 'time_signature': 4}, {'danceability': 0.775, 'energy': 0.554, 'key': 7, 'loudness': -6.448, 'mode': 0, 'speechiness': 0.323, 'acousticness': 0.326, 'instrumentalness': 0, 'liveness': 0.108, 'valence': 0.175, 'tempo': 144.047, 'type': 'audio_features', 'id': '4BJpGfAf7hJiUeZilWT2Mf', 'uri': 'spotify:track:4BJpGfAf7hJiUeZilWT2Mf', 'track_href': 'https://api.spotify.com/v1/tracks/4BJpGfAf7hJiUeZilWT2Mf', 'analysis_url': 'https://api.spotify.com/v1/audio-analysis/4BJpGfAf7hJiUeZilWT2Mf', 'duration_ms': 214955, 'time_signature': 4}, {'danceability': 0.878, 'energy': 0.417, 'key': 11, 'loudness': -13.917, 'mode': 1, 'speechiness': 0.0383, 'acousticness': 0.268, 'instrumentalness': 2.55e-06, 'liveness': 0.108, 'valence': 0.818, 'tempo': 113.984, 'type': 'audio_features', 'id': '3izzXho1gsIVBK43jf8fgr', 'uri': 'spotify:track:3izzXho1gsIVBK43jf8fgr', 'track_href': 'https://api.spotify.com/v1/tracks/3izzXho1gsIVBK43jf8fgr', 'analysis_url': 'https://api.spotify.com/v1/audio-analysis/3izzXho1gsIVBK43jf8fgr', 'duration_ms': 212643, 'time_signature': 4}, {'danceability': 0.874, 'energy': 0.692, 'key': 5, 'loudness': -5.28, 'mode': 0, 'speechiness': 0.0431, 'acousticness': 0.0412, 'instrumentalness': 7.24e-05, 'liveness': 0.324, 'valence': 0.937, 'tempo': 116.017, 'type': 'audio_features', 'id': '55h7vJchibLdUkxdlX3fK7', 'uri': 'spotify:track:55h7vJchibLdUkxdlX3fK7', 'track_href': 'https://api.spotify.com/v1/tracks/55h7vJchibLdUkxdlX3fK7', 'analysis_url': 'https://api.spotify.com/v1/audio-analysis/55h7vJchibLdUkxdlX3fK7', 'duration_ms': 178560, 'time_signature': 4}, {'danceability': 0.815, 'energy': 0.497, 'key': 2, 'loudness': -4.894, 'mode': 0, 'speechiness': 0.113, 'acousticness': 0.0681, 'instrumentalness': 0, 'liveness': 0.0309, 'valence': 0.964, 'tempo': 97.975, 'type': 'audio_features', 'id': '5joEp8oT3HqX3JtbZ8DZ1Y', 'uri': 'spotify:track:5joEp8oT3HqX3JtbZ8DZ1Y', 'track_href': 'https://api.spotify.com/v1/tracks/5joEp8oT3HqX3JtbZ8DZ1Y', 'analysis_url': 'https://api.spotify.com/v1/audio-analysis/5joEp8oT3HqX3JtbZ8DZ1Y', 'duration_ms': 167810, 'time_signature': 4}, {'danceability': 0.672, 'energy': 0.495, 'key': 7, 'loudness': -8.704, 'mode': 1, 'speechiness': 0.476, 'acousticness': 0.153, 'instrumentalness': 0, 'liveness': 0.671, 'valence': 0.666, 'tempo': 154.986, 'type': 'audio_features', 'id': '4BYPnNTZkGpnd5Odm2JFpT', 'uri': 'spotify:track:4BYPnNTZkGpnd5Odm2JFpT', 'track_href': 'https://api.spotify.com/v1/tracks/4BYPnNTZkGpnd5Odm2JFpT', 'analysis_url': 'https://api.spotify.com/v1/audio-analysis/4BYPnNTZkGpnd5Odm2JFpT', 'duration_ms': 156677, 'time_signature': 4}, {'danceability': 0.615, 'energy': 0.698, 'key': 6, 'loudness': -3.212, 'mode': 1, 'speechiness': 0.0485, 'acousticness': 0.0812, 'instrumentalness': 1.17e-06, 'liveness': 0.18, 'valence': 0.437, 'tempo': 80.024, 'type': 'audio_features', 'id': '3wImXdE4bliIVSEl3lVue1', 'uri': 'spotify:track:3wImXdE4bliIVSEl3lVue1', 'track_href': 'https://api.spotify.com/v1/tracks/3wImXdE4bliIVSEl3lVue1', 'analysis_url': 'https://api.spotify.com/v1/audio-analysis/3wImXdE4bliIVSEl3lVue1', 'duration_ms': 180853, 'time_signature': 4}, {'danceability': 0.812, 'energy': 0.606, 'key': 1, 'loudness': -6.768, 'mode': 1, 'speechiness': 0.0448, 'acousticness': 0.0674, 'instrumentalness': 0.00245, 'liveness': 0.173, 'valence': 0.0813, 'tempo': 132.976, 'type': 'audio_features', 'id': '5uNhWDGP1gXxS2IZl2alGx', 'uri': 'spotify:track:5uNhWDGP1gXxS2IZl2alGx', 'track_href': 'https://api.spotify.com/v1/tracks/5uNhWDGP1gXxS2IZl2alGx', 'analysis_url': 'https://api.spotify.com/v1/audio-analysis/5uNhWDGP1gXxS2IZl2alGx', 'duration_ms': 189613, 'time_signature': 4}]\n"
     ]
    }
   ],
   "source": [
    "#for i in range(0, len(song_uri)):\n",
    "#    song_uri[i]\n",
    "\n",
    "spotify = spotipy.Spotify(auth=token)\n",
    "\n",
    "#spotify.current_user_recently_played = types.MethodType(current_user_recently_played, spotify)\n",
    "audio_featuresJSON = spotify.audio_features(song_titles['song_uri'])\n",
    "print(audio_featuresJSON)\n",
    "\n"
   ]
  },
  {
   "cell_type": "code",
   "execution_count": 42,
   "metadata": {},
   "outputs": [
    {
     "ename": "KeyError",
     "evalue": "'popularity'",
     "output_type": "error",
     "traceback": [
      "\u001b[1;31m---------------------------------------------------------------------------\u001b[0m",
      "\u001b[1;31mKeyError\u001b[0m                                  Traceback (most recent call last)",
      "\u001b[1;32m<ipython-input-42-a5302a03144f>\u001b[0m in \u001b[0;36m<module>\u001b[1;34m\u001b[0m\n\u001b[1;32m----> 1\u001b[1;33m \u001b[0mprint\u001b[0m\u001b[1;33m(\u001b[0m\u001b[0maudio_featuresJSON\u001b[0m\u001b[1;33m[\u001b[0m\u001b[1;36m1\u001b[0m\u001b[1;33m]\u001b[0m\u001b[1;33m[\u001b[0m\u001b[1;34m'popularity'\u001b[0m\u001b[1;33m]\u001b[0m\u001b[1;33m)\u001b[0m\u001b[1;33m\u001b[0m\u001b[1;33m\u001b[0m\u001b[0m\n\u001b[0m",
      "\u001b[1;31mKeyError\u001b[0m: 'popularity'"
     ]
    }
   ],
   "source": [
    "print(audio_featuresJSON[1]['popularity'])"
   ]
  },
  {
   "cell_type": "code",
   "execution_count": 43,
   "metadata": {},
   "outputs": [],
   "source": [
    "uri = [] \n",
    "duration_ms = []\n",
    "key = []\n",
    "mode = []\n",
    "time_signature = []\n",
    "acousticness = []\n",
    "danceability = []\n",
    "energy = []\n",
    "instrumentalness = []\n",
    "liveness = []\n",
    "loudness = []\n",
    "speechiness = []\n",
    "valence = []\n",
    "tempo = []\n",
    "type1 = []\n",
    "\n",
    "for i in range(len(audio_featuresJSON)):\n",
    "    #pull audio features per track\n",
    "    #Append to relevant key-value\n",
    "    uri.append(audio_featuresJSON[i]['uri'])\n",
    "    duration_ms.append(audio_featuresJSON[i]['duration_ms'])\n",
    "    key.append(audio_featuresJSON[i]['key'])\n",
    "    mode.append(audio_featuresJSON[i]['mode'])\n",
    "    time_signature.append(audio_featuresJSON[i]['time_signature'])\n",
    "    acousticness.append(audio_featuresJSON[i]['acousticness'])\n",
    "    danceability.append(audio_featuresJSON[i]['danceability'])\n",
    "    energy.append(audio_featuresJSON[i]['energy'])\n",
    "    instrumentalness.append(audio_featuresJSON[i]['instrumentalness'])\n",
    "    liveness.append(audio_featuresJSON[i]['liveness'])\n",
    "    loudness.append(audio_featuresJSON[i]['loudness'])\n",
    "    speechiness.append(audio_featuresJSON[i]['speechiness'])\n",
    "    valence.append(audio_featuresJSON[i]['valence'])\n",
    "    tempo.append(audio_featuresJSON[i]['tempo'])\n",
    "    type1.append(audio_featuresJSON[i]['type'])"
   ]
  },
  {
   "cell_type": "code",
   "execution_count": 51,
   "metadata": {},
   "outputs": [],
   "source": [
    "#create dataframe and output it to csv here\n",
    "\n",
    "user_audiofeature_data = pd.DataFrame({\"uri\" : uri ,\n",
    "\"duration_ms\" : duration_ms,\n",
    "\"key\" : key,\n",
    "\"mode\" : mode,\n",
    "\"time_signature\" : time_signature,\n",
    "\"acousticness\" : acousticness,\n",
    "\"danceability\" : danceability,\n",
    "\"energy\" : energy,\n",
    "\"instrumentalness\" : instrumentalness,\n",
    "\"liveness\" : liveness,\n",
    "\"loudness\" : loudness,\n",
    "\"speechiness\" : speechiness,\n",
    "\"valence\" : valence,\n",
    "\"tempo\" : tempo,\n",
    "})\n",
    "user_audiofeature_data\n",
    "#print(type(user_audiofeature_data))\n",
    "\n",
    "#output file\n",
    "user_audiofeature_data.to_csv(\"user1_audiofeatures_data.csv\", \n",
    "                              encoding='utf-8', index=False)"
   ]
  }
 ],
 "metadata": {
  "kernelspec": {
   "display_name": "Python 3",
   "language": "python",
   "name": "python3"
  },
  "language_info": {
   "codemirror_mode": {
    "name": "ipython",
    "version": 3
   },
   "file_extension": ".py",
   "mimetype": "text/x-python",
   "name": "python",
   "nbconvert_exporter": "python",
   "pygments_lexer": "ipython3",
   "version": "3.7.4"
  }
 },
 "nbformat": 4,
 "nbformat_minor": 2
}
