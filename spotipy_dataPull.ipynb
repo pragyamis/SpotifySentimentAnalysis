{
 "cells": [
  {
   "cell_type": "code",
   "execution_count": 23,
   "metadata": {},
   "outputs": [],
   "source": [
    "#import packages here\n",
    "\n",
    "import spotipy\n",
    "import spotipy.util as util\n",
    "import json\n",
    "import types\n",
    "import pandas as pd\n",
    "import json\n",
    "from pandas.io.json import json_normalize  "
   ]
  },
  {
   "cell_type": "code",
   "execution_count": 24,
   "metadata": {},
   "outputs": [],
   "source": [
    "#auth with spotipy and spotify app auth info here\n",
    "#see documentation for spotipy/spotify setup: \n",
    "#https://spotipy.readthedocs.io/en/latest/?highlight=current_user_recently_played\n",
    "\n",
    "token = util.prompt_for_user_token(\n",
    "        username=\"psamrai7\",\n",
    "        scope=\"user-read-recently-played user-read-private user-top-read user-read-currently-playing\",\n",
    "        client_id=\"06fbc86c86fb476fa9154ebbcea09a2a\",\n",
    "        client_secret=\"1ad66a32c99944ffa9728e38629c5ebb\",\n",
    "        redirect_uri=\"http://localhost/\")"
   ]
  },
  {
   "cell_type": "code",
   "execution_count": 29,
   "metadata": {
    "scrolled": false
   },
   "outputs": [],
   "source": [
    "#perform data pull here\n",
    "\n",
    "#useful forum post due to lack of updates to spotipy package\n",
    "#https://stackoverflow.com/questions/50276854/how-to-retrieve-a-listening-history-object-by-spotipy\n",
    "\n",
    "def current_user_recently_played(self, limit=50):\n",
    "    return self._get('me/player/recently-played', limit=limit)\n",
    "\n",
    "spotify = spotipy.Spotify(auth=token)\n",
    "\n",
    "spotify.current_user_recently_played = types.MethodType(current_user_recently_played, spotify)\n",
    "recent_listening = spotify.current_user_recently_played(limit=50)\n",
    "\n",
    "#raw data output optional\n",
    "#out_file = open(\"recent_listening.json\",\"w\")\n",
    "#out_file.write(json.dumps(recent_listening, sort_keys=True, indent=2))\n",
    "#out_file.close()"
   ]
  },
  {
   "cell_type": "code",
   "execution_count": 30,
   "metadata": {},
   "outputs": [],
   "source": [
    "#wrangle data to get approp structured lists here\n",
    "\n",
    "#documentation: https://developer.spotify.com/documentation/web-api/reference/player/get-recently-played/\n",
    "#assess json structure further and see if can remove elements of interest\n",
    "#general structure:\n",
    "# print(json.dumps(recent_listening['items'],indent=2))\n",
    "# all artists involved in song:\n",
    "# print(json.dumps(recent_listening['items'][0]['track']['artists'],indent=2))\n",
    "# number of artists involved in song:\n",
    "# sometimes there are multiple\n",
    "# print(len(recent_listening['items'][0]['track']['artists']))\n",
    "# each artist involved in song:\n",
    "# print(json.dumps(recent_listening['items'][0]['track']['artists'][0]['name'],indent=2))\n",
    "# each song:\n",
    "# print(json.dumps(recent_listening['items'][0]['track']['name'],indent=2))\n",
    "\n",
    "#extract artist(s) name\n",
    "play_times = []\n",
    "song_names = []\n",
    "song_uri = []\n",
    "song_popularity = []\n",
    "song_duration = []\n",
    "song_explicit = []\n",
    "\n",
    "number_artists = []\n",
    "primary_artist = []\n",
    "second_artist = []\n",
    "third_artist = []\n",
    "forth_artist = []\n",
    "fifth_artist = []\n",
    "\n",
    "for i in range(len(recent_listening['items'])):\n",
    "    play_times.append(recent_listening['items'][i]['played_at']) #play time (when track was played)\n",
    "    song_names.append(recent_listening['items'][i]['track']['name']) #get each song name\n",
    "    song_uri.append(recent_listening['items'][i]['track']['uri']) #get each song uri (unique record id for spotify)\n",
    "    song_popularity.append(recent_listening['items'][i]['track']['popularity'])#get song popularity rank\n",
    "    song_duration.append(recent_listening['items'][i]['track']['duration_ms']) #get duration time in ms\n",
    "    song_explicit.append(recent_listening['items'][i]['track']['explicit']) #get explicit content bool \n",
    "                                \n",
    "    #each primary artist involved in song\n",
    "    primary_artist.append(recent_listening['items'][i]['track']['artists'][0]['name'])\n",
    "    #second, third, forth, or fifth artist involved (if exist)\n",
    "    \n",
    "    n_artists = len(recent_listening['items'][i]['track']['artists'])\n",
    "    number_artists.append(n_artists)\n",
    "    \n",
    "    if n_artists>1: \n",
    "        second_artist.append(recent_listening['items'][i]['track']['artists'][1]['name']) #get second artist\n",
    "    else: \n",
    "        second_artist.append(\"\")\n",
    "    if n_artists>2: \n",
    "        third_artist.append(recent_listening['items'][i]['track']['artists'][2]['name']) #get third artist\n",
    "    else: \n",
    "        third_artist.append(\"\")    \n",
    "    if n_artists>3: \n",
    "        forth_artist.append(recent_listening['items'][i]['track']['artists'][3]['name']) #get forth artist\n",
    "    else: \n",
    "        forth_artist.append(\"\")    \n",
    "    if n_artists>4: \n",
    "        fifth_artist.append(recent_listening['items'][i]['track']['artists'][4]['name']) #get fifth artist\n",
    "    else: \n",
    "        fifth_artist.append(\"\")    "
   ]
  },
  {
   "cell_type": "code",
   "execution_count": 31,
   "metadata": {},
   "outputs": [
    {
     "name": "stdout",
     "output_type": "stream",
     "text": [
      "There were 50 songs, 50 primary artists, and 50 play times captured.\n"
     ]
    }
   ],
   "source": [
    "#quick check here\n",
    "\n",
    "print(\"There were {} songs, {} primary artists, and {} play times captured.\".format(len(song_names),\n",
    "                                                                        len(primary_artist),\n",
    "                                                                        len(play_times)))"
   ]
  },
  {
   "cell_type": "code",
   "execution_count": 32,
   "metadata": {},
   "outputs": [
    {
     "name": "stdout",
     "output_type": "stream",
     "text": [
      "<class 'pandas.core.frame.DataFrame'>\n"
     ]
    }
   ],
   "source": [
    "#create dataframe and output it to csv here\n",
    "\n",
    "user_songlisten_data = pd.DataFrame(\n",
    "{\"play_times\" : play_times,  \n",
    "\"song_names\" : song_names,  \n",
    "\"song_uri\" : song_uri,  \n",
    "\"song_popularity\" : song_popularity,  \n",
    "\"song_duration\" : song_duration,  \n",
    "\"song_explicit\" : song_explicit,  \n",
    "\"number_artists\" : number_artists,\n",
    "\"primary_artist\" : primary_artist,  \n",
    "\"second_artist\" : second_artist,  \n",
    "\"third_artist\" : third_artist,  \n",
    "\"forth_artist\" : forth_artist,  \n",
    "\"fifth_artist\" : fifth_artist\n",
    "})\n",
    "user_songlisten_data\n",
    "print(type(user_songlisten_data))\n",
    "\n",
    "#output file\n",
    "user_songlisten_data.to_csv(\"user1_songlisten_data.csv\", encoding='utf-8', index=False)"
   ]
  },
  {
   "cell_type": "code",
   "execution_count": null,
   "metadata": {},
   "outputs": [],
   "source": []
  }
 ],
 "metadata": {
  "kernelspec": {
   "display_name": "Python 3",
   "language": "python",
   "name": "python3"
  },
  "language_info": {
   "codemirror_mode": {
    "name": "ipython",
    "version": 3
   },
   "file_extension": ".py",
   "mimetype": "text/x-python",
   "name": "python",
   "nbconvert_exporter": "python",
   "pygments_lexer": "ipython3",
   "version": "3.6.5"
  }
 },
 "nbformat": 4,
 "nbformat_minor": 2
}
